{
 "cells": [
  {
   "cell_type": "code",
   "execution_count": 26,
   "id": "57df360a",
   "metadata": {},
   "outputs": [],
   "source": [
    "class Employee:\n",
    "    def __init__(self, first, last, pay):\n",
    "        self.fname = first\n",
    "        self.lname = last\n",
    "        self.full_name = first.title() + ' ' + last.title()\n",
    "        self.email = first + '.' + last + '@company.com'\n",
    "        self.comp = pay\n",
    "\n",
    "emp_1 = Employee('Suminder', 'Singh', 150000)\n",
    "emp_2 = Employee('Test', 'User', 50000)"
   ]
  },
  {
   "cell_type": "code",
   "execution_count": 27,
   "id": "1d6f4cfb",
   "metadata": {},
   "outputs": [
    {
     "data": {
      "text/plain": [
       "'Suminder.Singh@company.com'"
      ]
     },
     "execution_count": 27,
     "metadata": {},
     "output_type": "execute_result"
    }
   ],
   "source": [
    "emp_1.email"
   ]
  },
  {
   "cell_type": "code",
   "execution_count": 28,
   "id": "9003f348",
   "metadata": {},
   "outputs": [
    {
     "data": {
      "text/plain": [
       "150000"
      ]
     },
     "execution_count": 28,
     "metadata": {},
     "output_type": "execute_result"
    }
   ],
   "source": [
    "emp_1.comp"
   ]
  },
  {
   "cell_type": "code",
   "execution_count": 29,
   "id": "83fd6f44",
   "metadata": {},
   "outputs": [
    {
     "data": {
      "text/plain": [
       "'Suminder Singh'"
      ]
     },
     "execution_count": 29,
     "metadata": {},
     "output_type": "execute_result"
    }
   ],
   "source": [
    "emp_1.full_name"
   ]
  },
  {
   "cell_type": "code",
   "execution_count": 30,
   "id": "6be942e0",
   "metadata": {},
   "outputs": [
    {
     "data": {
      "text/plain": [
       "'Test User'"
      ]
     },
     "execution_count": 30,
     "metadata": {},
     "output_type": "execute_result"
    }
   ],
   "source": [
    "emp_2.full_name"
   ]
  },
  {
   "cell_type": "code",
   "execution_count": 44,
   "id": "79507953",
   "metadata": {},
   "outputs": [],
   "source": [
    "class Employee:\n",
    "    \n",
    "    def __init__(self, first, last, pay):\n",
    "        self.fname = first\n",
    "        self.lname = last\n",
    "        self.comp = pay\n",
    "    \n",
    "    def full_name(self):\n",
    "        return f'{self.fname} {self.lname}'\n",
    "    \n",
    "    def email_address(self):\n",
    "        return f\"{self.fname}.{self.lname}@company.com\"\n",
    "\n",
    "emp_1 = Employee('Suminder', 'Singh', 150000)\n",
    "emp_2 = Employee('Test', 'User', 50000)"
   ]
  },
  {
   "cell_type": "code",
   "execution_count": 45,
   "id": "1d36f13e",
   "metadata": {},
   "outputs": [
    {
     "name": "stdout",
     "output_type": "stream",
     "text": [
      "Suminder Singh\n"
     ]
    }
   ],
   "source": [
    "print(emp_1.full_name())"
   ]
  },
  {
   "cell_type": "code",
   "execution_count": 46,
   "id": "1744ffaf",
   "metadata": {},
   "outputs": [
    {
     "data": {
      "text/plain": [
       "'Suminder.Singh@company.com'"
      ]
     },
     "execution_count": 46,
     "metadata": {},
     "output_type": "execute_result"
    }
   ],
   "source": [
    "emp_1.email_address()"
   ]
  },
  {
   "cell_type": "code",
   "execution_count": 47,
   "id": "7c3dd60e",
   "metadata": {},
   "outputs": [
    {
     "data": {
      "text/plain": [
       "'Suminder Singh'"
      ]
     },
     "execution_count": 47,
     "metadata": {},
     "output_type": "execute_result"
    }
   ],
   "source": [
    "Employee.full_name(emp_1)"
   ]
  },
  {
   "cell_type": "code",
   "execution_count": 76,
   "id": "259e769d",
   "metadata": {},
   "outputs": [],
   "source": [
    "class Employee:\n",
    "    \n",
    "    def __init__(self, first, last, pay):\n",
    "        self.fname = first.title()\n",
    "        self.lname = last.title()\n",
    "        self.comp = pay\n",
    "        \n",
    "    def full_name(self):\n",
    "        return f'{self.fname.title()} {self.lname.title()}'\n",
    "    \n",
    "    def email(self):\n",
    "        return f'{self.fname.lower()}.{self.lname.lower()}@company.com'\n",
    "    \n",
    "    def apply_raise(self, app):\n",
    "        if app==0:\n",
    "            return f'Compensation stays at: {self.comp}'\n",
    "        else:\n",
    "            self.comp = self.comp + (self.comp * app/100)\n",
    "            return f'New Compensation: {self.comp}'\n",
    "       \n",
    "emp_1 = Employee('suminder', 'singh', 200000)"
   ]
  },
  {
   "cell_type": "code",
   "execution_count": 77,
   "id": "c7daf26d",
   "metadata": {},
   "outputs": [
    {
     "data": {
      "text/plain": [
       "'New Compensation: 220000.0'"
      ]
     },
     "execution_count": 77,
     "metadata": {},
     "output_type": "execute_result"
    }
   ],
   "source": [
    "emp_1.apply_raise(10)"
   ]
  },
  {
   "cell_type": "code",
   "execution_count": 78,
   "id": "0040d369",
   "metadata": {},
   "outputs": [
    {
     "data": {
      "text/plain": [
       "'New Compensation: 264000.0'"
      ]
     },
     "execution_count": 78,
     "metadata": {},
     "output_type": "execute_result"
    }
   ],
   "source": [
    "emp_1.apply_raise(20)"
   ]
  },
  {
   "cell_type": "code",
   "execution_count": 80,
   "id": "9a71782a",
   "metadata": {},
   "outputs": [],
   "source": [
    "class Employee:\n",
    "    \n",
    "    def __init__(self):\n",
    "        first = input('Enter first name: ')\n",
    "        last = input('Enter last name: ')\n",
    "        pay = int(input('Enter annual salary: '))\n",
    "        self.fname = first.title()\n",
    "        self.lname = last.title()\n",
    "        self.comp = pay\n",
    "        \n",
    "    def full_name(self):\n",
    "        return f'{self.fname.title()} {self.lname.title()}'\n",
    "    \n",
    "    def email(self):\n",
    "        return f'{self.fname.lower()}.{self.lname.lower()}@company.com'\n",
    "    \n",
    "    def apply_raise(self, app):\n",
    "        if app==0:\n",
    "            return f'Compensation stays at: {self.comp}'\n",
    "        else:\n",
    "            self.comp = self.comp + (self.comp * app/100)\n",
    "            return f'New Compensation: {self.comp}'"
   ]
  },
  {
   "cell_type": "code",
   "execution_count": 82,
   "id": "36e9ad8a",
   "metadata": {},
   "outputs": [
    {
     "name": "stdout",
     "output_type": "stream",
     "text": [
      "Enter first name: suminder\n",
      "Enter last name: singh\n",
      "Enter annual salary: 200000\n"
     ]
    },
    {
     "data": {
      "text/plain": [
       "<__main__.Employee at 0x7b895d4a1730>"
      ]
     },
     "execution_count": 82,
     "metadata": {},
     "output_type": "execute_result"
    }
   ],
   "source": [
    "emp_1 = Employee()\n",
    "emp_1"
   ]
  },
  {
   "cell_type": "code",
   "execution_count": 83,
   "id": "08f95291",
   "metadata": {},
   "outputs": [
    {
     "data": {
      "text/plain": [
       "'Suminder'"
      ]
     },
     "execution_count": 83,
     "metadata": {},
     "output_type": "execute_result"
    }
   ],
   "source": [
    "emp_1.fname"
   ]
  },
  {
   "cell_type": "code",
   "execution_count": 84,
   "id": "ebc8bc61",
   "metadata": {},
   "outputs": [
    {
     "data": {
      "text/plain": [
       "'suminder.singh@company.com'"
      ]
     },
     "execution_count": 84,
     "metadata": {},
     "output_type": "execute_result"
    }
   ],
   "source": [
    "emp_1.email()"
   ]
  },
  {
   "cell_type": "code",
   "execution_count": 1,
   "id": "e758ea84",
   "metadata": {},
   "outputs": [],
   "source": [
    "class Employee:\n",
    "    \n",
    "    def __init__(self):\n",
    "        first = input('Enter first name: ')\n",
    "        last = input('Enter last name: ')\n",
    "        pay = int(input('Enter annual salary: '))\n",
    "        self.fname = first.title()\n",
    "        self.lname = last.title()\n",
    "        self.comp = pay\n",
    "        \n",
    "    def full_name(self):\n",
    "        return f'{self.fname.title()} {self.lname.title()}'\n",
    "    \n",
    "    def email(self):\n",
    "        return f'{self.fname.lower()}.{self.lname.lower()}@company.com'\n",
    "    \n",
    "    def apply_raise(self, app):\n",
    "        if app==0:\n",
    "            return f'Compensation stays at: {self.comp}'\n",
    "        else:\n",
    "            self.comp = self.comp + (self.comp * app/100)\n",
    "            return f'New Compensation: {self.comp}'"
   ]
  },
  {
   "cell_type": "code",
   "execution_count": 2,
   "id": "4b54c7e6",
   "metadata": {},
   "outputs": [
    {
     "data": {
      "text/plain": [
       "<__main__.Employee at 0x7dee180fc4c0>"
      ]
     },
     "execution_count": 2,
     "metadata": {},
     "output_type": "execute_result"
    }
   ],
   "source": [
    "Employee()"
   ]
  },
  {
   "cell_type": "code",
   "execution_count": null,
   "id": "8a7e44f4",
   "metadata": {},
   "outputs": [],
   "source": []
  }
 ],
 "metadata": {
  "kernelspec": {
   "display_name": "Python 3.9.2 64-bit",
   "language": "python",
   "name": "python3"
  },
  "language_info": {
   "codemirror_mode": {
    "name": "ipython",
    "version": 3
   },
   "file_extension": ".py",
   "mimetype": "text/x-python",
   "name": "python",
   "nbconvert_exporter": "python",
   "pygments_lexer": "ipython3",
   "version": "3.9.2"
  },
  "vscode": {
   "interpreter": {
    "hash": "916dbcbb3f70747c44a77c7bcd40155683ae19c65e1c03b4aa3499c5328201f1"
   }
  }
 },
 "nbformat": 4,
 "nbformat_minor": 5
}
