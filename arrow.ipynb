{
 "cells": [
  {
   "cell_type": "code",
   "execution_count": 18,
   "id": "1ba12f92",
   "metadata": {},
   "outputs": [],
   "source": [
    "import arrow as ar\n",
    "from datetime import datetime as dt"
   ]
  },
  {
   "cell_type": "code",
   "execution_count": 3,
   "id": "51d75eba",
   "metadata": {},
   "outputs": [
    {
     "data": {
      "text/plain": [
       "<Arrow [2022-12-08T08:51:38.927608+00:00]>"
      ]
     },
     "execution_count": 3,
     "metadata": {},
     "output_type": "execute_result"
    }
   ],
   "source": [
    "ar.utcnow()"
   ]
  },
  {
   "cell_type": "code",
   "execution_count": 5,
   "id": "c1969c87",
   "metadata": {},
   "outputs": [
    {
     "data": {
      "text/plain": [
       "<Arrow [2022-12-08T14:22:58.398484+05:30]>"
      ]
     },
     "execution_count": 5,
     "metadata": {},
     "output_type": "execute_result"
    }
   ],
   "source": [
    "ar.now('Asia/Calcutta')"
   ]
  },
  {
   "cell_type": "code",
   "execution_count": 6,
   "id": "74f8b8e2",
   "metadata": {},
   "outputs": [
    {
     "data": {
      "text/plain": [
       "<Arrow [2020-02-02T12:30:45+00:00]>"
      ]
     },
     "execution_count": 6,
     "metadata": {},
     "output_type": "execute_result"
    }
   ],
   "source": [
    "s ='2020-02-02 12:30:45'\n",
    "ar.get(s, 'YYYY-MM-DD HH:mm:ss')"
   ]
  },
  {
   "cell_type": "code",
   "execution_count": 14,
   "id": "b130f5bc",
   "metadata": {},
   "outputs": [
    {
     "data": {
      "text/plain": [
       "1670489780.561655"
      ]
     },
     "execution_count": 14,
     "metadata": {},
     "output_type": "execute_result"
    }
   ],
   "source": [
    "ar.utcnow().timestamp()"
   ]
  },
  {
   "cell_type": "code",
   "execution_count": 13,
   "id": "002775ca",
   "metadata": {},
   "outputs": [
    {
     "data": {
      "text/plain": [
       "1580646645.0"
      ]
     },
     "execution_count": 13,
     "metadata": {},
     "output_type": "execute_result"
    }
   ],
   "source": [
    "ar.get(s, 'YYYY-MM-DD HH:mm:ss').timestamp()"
   ]
  },
  {
   "cell_type": "code",
   "execution_count": 15,
   "id": "ab52f75b",
   "metadata": {},
   "outputs": [
    {
     "data": {
      "text/plain": [
       "arrow.arrow.Arrow"
      ]
     },
     "execution_count": 15,
     "metadata": {},
     "output_type": "execute_result"
    }
   ],
   "source": [
    "type(ar.utcnow())"
   ]
  },
  {
   "cell_type": "code",
   "execution_count": 17,
   "id": "5e84ad5a",
   "metadata": {},
   "outputs": [
    {
     "data": {
      "text/plain": [
       "<Arrow [2020-02-02T18:00:45+05:30]>"
      ]
     },
     "execution_count": 17,
     "metadata": {},
     "output_type": "execute_result"
    }
   ],
   "source": [
    "s ='2020-02-02 12:30:45'\n",
    "unix_ts = ar.get(s, 'YYYY-MM-DD HH:mm:ss').timestamp()\n",
    "ar.Arrow.fromtimestamp(unix_ts)"
   ]
  },
  {
   "cell_type": "code",
   "execution_count": 19,
   "id": "4b36bcc3",
   "metadata": {},
   "outputs": [
    {
     "data": {
      "text/plain": [
       "datetime.datetime(2022, 12, 8, 14, 29, 31, 379714)"
      ]
     },
     "execution_count": 19,
     "metadata": {},
     "output_type": "execute_result"
    }
   ],
   "source": [
    "dt.now()"
   ]
  },
  {
   "cell_type": "code",
   "execution_count": 21,
   "id": "1afe2294",
   "metadata": {},
   "outputs": [
    {
     "data": {
      "text/plain": [
       "<Arrow [2022-12-08T00:00:00+00:00]>"
      ]
     },
     "execution_count": 21,
     "metadata": {},
     "output_type": "execute_result"
    }
   ],
   "source": [
    "ar.Arrow.fromdate(dt.now())"
   ]
  },
  {
   "cell_type": "code",
   "execution_count": 22,
   "id": "afac2245",
   "metadata": {},
   "outputs": [
    {
     "data": {
      "text/plain": [
       "<Arrow [1987-11-01T13:30:30+00:00]>"
      ]
     },
     "execution_count": 22,
     "metadata": {},
     "output_type": "execute_result"
    }
   ],
   "source": [
    "ar.get(\"1987-11-01 13:30:30\")"
   ]
  },
  {
   "cell_type": "code",
   "execution_count": 23,
   "id": "e0e3e78e",
   "metadata": {},
   "outputs": [],
   "source": [
    "a = ar.get(\"1987-11-01 13:30:30\")"
   ]
  },
  {
   "cell_type": "code",
   "execution_count": 24,
   "id": "ece7b1ba",
   "metadata": {},
   "outputs": [
    {
     "data": {
      "text/plain": [
       "datetime.date(1987, 11, 1)"
      ]
     },
     "execution_count": 24,
     "metadata": {},
     "output_type": "execute_result"
    }
   ],
   "source": [
    "a.date()"
   ]
  },
  {
   "cell_type": "code",
   "execution_count": 25,
   "id": "6aeaf839",
   "metadata": {},
   "outputs": [
    {
     "data": {
      "text/plain": [
       "datetime.time(13, 30, 30)"
      ]
     },
     "execution_count": 25,
     "metadata": {},
     "output_type": "execute_result"
    }
   ],
   "source": [
    "a.time()"
   ]
  },
  {
   "cell_type": "code",
   "execution_count": 27,
   "id": "73f4ad29",
   "metadata": {},
   "outputs": [
    {
     "data": {
      "text/plain": [
       "1987"
      ]
     },
     "execution_count": 27,
     "metadata": {},
     "output_type": "execute_result"
    }
   ],
   "source": [
    "a.year"
   ]
  },
  {
   "cell_type": "code",
   "execution_count": 28,
   "id": "03c22068",
   "metadata": {},
   "outputs": [
    {
     "data": {
      "text/plain": [
       "11"
      ]
     },
     "execution_count": 28,
     "metadata": {},
     "output_type": "execute_result"
    }
   ],
   "source": [
    "a.month"
   ]
  },
  {
   "cell_type": "code",
   "execution_count": 29,
   "id": "683489e0",
   "metadata": {},
   "outputs": [
    {
     "data": {
      "text/plain": [
       "1"
      ]
     },
     "execution_count": 29,
     "metadata": {},
     "output_type": "execute_result"
    }
   ],
   "source": [
    "a.day"
   ]
  },
  {
   "cell_type": "code",
   "execution_count": 31,
   "id": "ddc83682",
   "metadata": {},
   "outputs": [
    {
     "data": {
      "text/plain": [
       "6"
      ]
     },
     "execution_count": 31,
     "metadata": {},
     "output_type": "execute_result"
    }
   ],
   "source": [
    "a.weekday()"
   ]
  },
  {
   "cell_type": "code",
   "execution_count": 33,
   "id": "d9527170",
   "metadata": {},
   "outputs": [
    {
     "data": {
      "text/plain": [
       "13"
      ]
     },
     "execution_count": 33,
     "metadata": {},
     "output_type": "execute_result"
    }
   ],
   "source": [
    "a.hour"
   ]
  },
  {
   "cell_type": "code",
   "execution_count": 34,
   "id": "be1db252",
   "metadata": {},
   "outputs": [
    {
     "data": {
      "text/plain": [
       "30"
      ]
     },
     "execution_count": 34,
     "metadata": {},
     "output_type": "execute_result"
    }
   ],
   "source": [
    "a.minute"
   ]
  },
  {
   "cell_type": "code",
   "execution_count": 36,
   "id": "eb1ee268",
   "metadata": {},
   "outputs": [
    {
     "data": {
      "text/plain": [
       "30"
      ]
     },
     "execution_count": 36,
     "metadata": {},
     "output_type": "execute_result"
    }
   ],
   "source": [
    "a.second"
   ]
  },
  {
   "cell_type": "code",
   "execution_count": 38,
   "id": "8450b508",
   "metadata": {},
   "outputs": [
    {
     "data": {
      "text/plain": [
       "562771830.0"
      ]
     },
     "execution_count": 38,
     "metadata": {},
     "output_type": "execute_result"
    }
   ],
   "source": [
    "a.timestamp()"
   ]
  },
  {
   "cell_type": "code",
   "execution_count": 40,
   "id": "8f677ec4",
   "metadata": {},
   "outputs": [
    {
     "data": {
      "text/plain": [
       "<Arrow [2022-12-08T14:38:51.689210+05:30]>"
      ]
     },
     "execution_count": 40,
     "metadata": {},
     "output_type": "execute_result"
    }
   ],
   "source": [
    "ar.now()"
   ]
  },
  {
   "cell_type": "code",
   "execution_count": 41,
   "id": "43acb09c",
   "metadata": {},
   "outputs": [],
   "source": [
    "b = a.replace(hour=5, minute=30)\n",
    "c = a.shift(weeks=+3)\n",
    "d = a.replace(tzinfo='US/Pacific')"
   ]
  },
  {
   "cell_type": "code",
   "execution_count": 42,
   "id": "f81d9ead",
   "metadata": {},
   "outputs": [
    {
     "name": "stdout",
     "output_type": "stream",
     "text": [
      "1987-11-01T05:30:30+00:00 1987-11-22T13:30:30+00:00 1987-11-01T13:30:30-08:00\n"
     ]
    }
   ],
   "source": [
    "print(b,c,d)"
   ]
  },
  {
   "cell_type": "code",
   "execution_count": 44,
   "id": "fbafb035",
   "metadata": {},
   "outputs": [],
   "source": [
    "apast = ar.utcnow().shift(hours=-1)"
   ]
  },
  {
   "cell_type": "code",
   "execution_count": 45,
   "id": "bbdaac00",
   "metadata": {},
   "outputs": [
    {
     "data": {
      "text/plain": [
       "<Arrow [2022-12-08T08:11:13.095688+00:00]>"
      ]
     },
     "execution_count": 45,
     "metadata": {},
     "output_type": "execute_result"
    }
   ],
   "source": [
    "apast"
   ]
  },
  {
   "cell_type": "code",
   "execution_count": 47,
   "id": "9e51707c",
   "metadata": {},
   "outputs": [
    {
     "data": {
      "text/plain": [
       "'an hour ago'"
      ]
     },
     "execution_count": 47,
     "metadata": {},
     "output_type": "execute_result"
    }
   ],
   "source": [
    "apast.humanize()"
   ]
  },
  {
   "cell_type": "code",
   "execution_count": 49,
   "id": "04aa4337",
   "metadata": {},
   "outputs": [],
   "source": [
    "present = ar.utcnow()\n",
    "afuture = present.shift(hours=3)"
   ]
  },
  {
   "cell_type": "code",
   "execution_count": 50,
   "id": "7d94588b",
   "metadata": {},
   "outputs": [
    {
     "data": {
      "text/plain": [
       "<Arrow [2022-12-08T09:12:40.339736+00:00]>"
      ]
     },
     "execution_count": 50,
     "metadata": {},
     "output_type": "execute_result"
    }
   ],
   "source": [
    "present"
   ]
  },
  {
   "cell_type": "code",
   "execution_count": 51,
   "id": "414e47b6",
   "metadata": {},
   "outputs": [
    {
     "data": {
      "text/plain": [
       "<Arrow [2022-12-08T12:12:40.339736+00:00]>"
      ]
     },
     "execution_count": 51,
     "metadata": {},
     "output_type": "execute_result"
    }
   ],
   "source": [
    "afuture"
   ]
  },
  {
   "cell_type": "code",
   "execution_count": 52,
   "id": "58960dd7",
   "metadata": {},
   "outputs": [
    {
     "data": {
      "text/plain": [
       "'in 2 hours'"
      ]
     },
     "execution_count": 52,
     "metadata": {},
     "output_type": "execute_result"
    }
   ],
   "source": [
    "afuture.humanize()"
   ]
  },
  {
   "cell_type": "code",
   "execution_count": 53,
   "id": "3e368483",
   "metadata": {},
   "outputs": [
    {
     "data": {
      "text/plain": [
       "'31 seconds ago'"
      ]
     },
     "execution_count": 53,
     "metadata": {},
     "output_type": "execute_result"
    }
   ],
   "source": [
    "present.humanize()"
   ]
  },
  {
   "cell_type": "code",
   "execution_count": 54,
   "id": "16a34b3f",
   "metadata": {},
   "outputs": [],
   "source": [
    "afuture = present.shift(minutes=73)"
   ]
  },
  {
   "cell_type": "code",
   "execution_count": 55,
   "id": "9ce9f365",
   "metadata": {},
   "outputs": [
    {
     "data": {
      "text/plain": [
       "'in 4312 seconds'"
      ]
     },
     "execution_count": 55,
     "metadata": {},
     "output_type": "execute_result"
    }
   ],
   "source": [
    "afuture.humanize(granularity = \"second\")"
   ]
  },
  {
   "cell_type": "code",
   "execution_count": 56,
   "id": "e0afecef",
   "metadata": {},
   "outputs": [
    {
     "data": {
      "text/plain": [
       "'in an hour 11 minutes and 16 seconds'"
      ]
     },
     "execution_count": 56,
     "metadata": {},
     "output_type": "execute_result"
    }
   ],
   "source": [
    "afuture.humanize(granularity = ['hour', 'minute', 'second'])"
   ]
  },
  {
   "cell_type": "code",
   "execution_count": null,
   "id": "4f07402d",
   "metadata": {},
   "outputs": [],
   "source": []
  }
 ],
 "metadata": {
  "kernelspec": {
   "display_name": "Python 3 (ipykernel)",
   "language": "python",
   "name": "python3"
  },
  "language_info": {
   "codemirror_mode": {
    "name": "ipython",
    "version": 3
   },
   "file_extension": ".py",
   "mimetype": "text/x-python",
   "name": "python",
   "nbconvert_exporter": "python",
   "pygments_lexer": "ipython3",
   "version": "3.9.13"
  }
 },
 "nbformat": 4,
 "nbformat_minor": 5
}
